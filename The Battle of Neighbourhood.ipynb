{
  "cells": [
    {
      "metadata": {
        "collapsed": true
      },
      "cell_type": "markdown",
      "source": "# Capstone Project: The Battle of Neighborhood\n## Recommanding the Most Valuable Venue for Homebuyers in London"
    },
    {
      "metadata": {},
      "cell_type": "markdown",
      "source": "### Introduction\n#### Background\nAccording Working Paper 72 published by London Government, London’s house prices are relatively high comparing to other area in the UK, and have been rising at a fast rate recent years. Housing markets in London have witnessed a number of ups and downs, with volatile house prices in London tending to amplify changes in national house prices. London has\nexperienced several episodes of real house price deflation. From the patterns of previous cycles, it is hard to simply tell from the previous cycles' pattern that whether house prices are approaching a new peak or a downward adjustment.\n\nRecently as a result of the pandemic, increasing unemployment rate, wage cuts, business failures, and job uncertainty also brought huge impact to the house market in London. According to the Nationwide, house prices fell 1.7% in May from the previous month, the largest monthly fall for 11 years, due to the headwinds of Covid-19.\n\n#### Business Problem\nAs a matter of fact, it is of great necessity to integrate data science and machine learning technics with the study of London house market in order to assist clients making sensible and efficient choices.\nHow could we provide suggestions to our clients based on the study of neighborhoods for either settling or investing is our main business problem. We will recommend profitable venues according to amenities and infrastructures surrounded."
    },
    {
      "metadata": {},
      "cell_type": "markdown",
      "source": "### Data section\nLondon properties monthly updated price paid data is provided from the HM Land Registry.\nData link: http://landregistry.data.gov.uk/\n\nAfter finding the list of neighborhoods, we then connect to the Foursquare API to gather information about venues inside each and every neighborhood. FourSquare API interface is a location data provider with information about venues. Data retrieved includes venue name, latitude, longitude, category, neighborhood and neighborhood location.  "
    },
    {
      "metadata": {
        "trusted": true
      },
      "cell_type": "code",
      "source": "",
      "execution_count": null,
      "outputs": []
    }
  ],
  "metadata": {
    "kernelspec": {
      "name": "python36",
      "display_name": "Python 3.6",
      "language": "python"
    },
    "language_info": {
      "mimetype": "text/x-python",
      "nbconvert_exporter": "python",
      "name": "python",
      "pygments_lexer": "ipython3",
      "version": "3.6.6",
      "file_extension": ".py",
      "codemirror_mode": {
        "version": 3,
        "name": "ipython"
      }
    }
  },
  "nbformat": 4,
  "nbformat_minor": 2
}